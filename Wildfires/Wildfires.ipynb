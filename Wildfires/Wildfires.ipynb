{
  "cells": [
    {
      "cell_type": "markdown",
      "id": "6f150ec2",
      "metadata": {
        "id": "6f150ec2"
      },
      "source": [
        "# CI - 0148  | Laboratorio\n",
        "# Implementación de modelos  \n",
        "Profesor:  \n",
        "MSc. Felipe Meza-Obando\n",
        "\n",
        "Estudiantes:  \n",
        "Sánchez Zamora Alexander | C17325  \n",
        "Chacón González Jean Paul  | C11993"
      ]
    },
    {
      "cell_type": "markdown",
      "id": "4e2ff5f8",
      "metadata": {
        "id": "4e2ff5f8"
      },
      "source": [
        "# Problema"
      ]
    },
    {
      "cell_type": "markdown",
      "id": "2223b1de",
      "metadata": {
        "id": "2223b1de"
      },
      "source": [
        "En el laboratorio anterior se llevó a cabo el preprocesado de los datos originales del dataset de [Wildfires](https://developer.ibm.com/data/spot-challenge-wildfires/), así que se partirá desde esos datos para la realización de este laboratorio.\n",
        "\n",
        "Este dataset contiene información acerca de diversos incendios ocurridos a través de varias regiones de Australia. Existe información sobre la cantidad de área del incendio, así como energía y brillo irradiados por el mismo. Además, se encuentran registrados datos climatológicos como Precipitación, Humedad, Temperatura o Velocidad del viento al momento del incidente.\n",
        "\n",
        "El objetivo de este laboratorio es predecir cuanta área tendría un incendio específico, tomando en cuenta los diferentes atributos mencionados anteriormente."
      ]
    },
    {
      "cell_type": "markdown",
      "source": [
        "## Importación de Datos"
      ],
      "metadata": {
        "id": "TToTlxnfPdsq"
      },
      "id": "TToTlxnfPdsq"
    },
    {
      "cell_type": "markdown",
      "id": "89b9a146",
      "metadata": {
        "id": "89b9a146"
      },
      "source": [
        "Se comenzará por la importación de los datos anteriormente procesados:"
      ]
    },
    {
      "cell_type": "code",
      "execution_count": null,
      "id": "f68e7b10",
      "metadata": {
        "colab": {
          "base_uri": "https://localhost:8080/",
          "height": 226
        },
        "id": "f68e7b10",
        "outputId": "c3722fde-7c23-4f17-c7ce-15e11014cbf2"
      },
      "outputs": [
        {
          "output_type": "execute_result",
          "data": {
            "text/plain": [
              "   Region        Date  Estimated_fire_area  Mean_estimated_fire_brightness  \\\n",
              "0       0  04/01/2005            -0.431359                       -0.837048   \n",
              "1       0  05/01/2005            -0.406057                        0.312121   \n",
              "2       0  06/01/2005            -0.441439                        0.626384   \n",
              "3       0  07/01/2005            -0.439066                       -0.656559   \n",
              "4       0  08/01/2005            -0.441822                        1.990377   \n",
              "\n",
              "   Mean_estimated_fire_radiative_power  Mean_confidence  Std_confidence  \\\n",
              "0                            -0.609062        -2.037880       -2.287676   \n",
              "1                            -0.314524        -0.475382        0.427537   \n",
              "2                            -0.668080        -2.114100       -2.116581   \n",
              "3                            -0.735951         1.056629        0.135843   \n",
              "4                             0.573270         0.782239        0.348441   \n",
              "\n",
              "   Var_confidence     Count  Replaced  Precipitation  RelativeHumidity  \\\n",
              "0       -1.940798 -0.457521         1       0.883674          0.447914   \n",
              "1        0.358861 -0.424313         1      -0.407303         -0.233756   \n",
              "2       -1.860243 -0.457521         1      -0.272444         -0.734872   \n",
              "3        0.007295 -0.444238         1      -0.452944         -0.775754   \n",
              "4        0.261044 -0.457521         1      -0.385184         -0.561367   \n",
              "\n",
              "   SoilWaterContent  SolarRadiation  Temperature  WindSpeed  \n",
              "0          0.957292        0.362612     0.251980   1.176793  \n",
              "1          0.819185        1.269009     0.156911   0.290884  \n",
              "2          0.681865        1.681548    -0.115477   0.787310  \n",
              "3          0.549799        1.944195    -0.264729   0.294628  \n",
              "4          0.445049        1.480001     0.013732   0.152242  "
            ],
            "text/html": [
              "\n",
              "  <div id=\"df-f1ec970a-8b05-4661-8b4a-2b3d30fffad8\" class=\"colab-df-container\">\n",
              "    <div>\n",
              "<style scoped>\n",
              "    .dataframe tbody tr th:only-of-type {\n",
              "        vertical-align: middle;\n",
              "    }\n",
              "\n",
              "    .dataframe tbody tr th {\n",
              "        vertical-align: top;\n",
              "    }\n",
              "\n",
              "    .dataframe thead th {\n",
              "        text-align: right;\n",
              "    }\n",
              "</style>\n",
              "<table border=\"1\" class=\"dataframe\">\n",
              "  <thead>\n",
              "    <tr style=\"text-align: right;\">\n",
              "      <th></th>\n",
              "      <th>Region</th>\n",
              "      <th>Date</th>\n",
              "      <th>Estimated_fire_area</th>\n",
              "      <th>Mean_estimated_fire_brightness</th>\n",
              "      <th>Mean_estimated_fire_radiative_power</th>\n",
              "      <th>Mean_confidence</th>\n",
              "      <th>Std_confidence</th>\n",
              "      <th>Var_confidence</th>\n",
              "      <th>Count</th>\n",
              "      <th>Replaced</th>\n",
              "      <th>Precipitation</th>\n",
              "      <th>RelativeHumidity</th>\n",
              "      <th>SoilWaterContent</th>\n",
              "      <th>SolarRadiation</th>\n",
              "      <th>Temperature</th>\n",
              "      <th>WindSpeed</th>\n",
              "    </tr>\n",
              "  </thead>\n",
              "  <tbody>\n",
              "    <tr>\n",
              "      <th>0</th>\n",
              "      <td>0</td>\n",
              "      <td>04/01/2005</td>\n",
              "      <td>-0.431359</td>\n",
              "      <td>-0.837048</td>\n",
              "      <td>-0.609062</td>\n",
              "      <td>-2.037880</td>\n",
              "      <td>-2.287676</td>\n",
              "      <td>-1.940798</td>\n",
              "      <td>-0.457521</td>\n",
              "      <td>1</td>\n",
              "      <td>0.883674</td>\n",
              "      <td>0.447914</td>\n",
              "      <td>0.957292</td>\n",
              "      <td>0.362612</td>\n",
              "      <td>0.251980</td>\n",
              "      <td>1.176793</td>\n",
              "    </tr>\n",
              "    <tr>\n",
              "      <th>1</th>\n",
              "      <td>0</td>\n",
              "      <td>05/01/2005</td>\n",
              "      <td>-0.406057</td>\n",
              "      <td>0.312121</td>\n",
              "      <td>-0.314524</td>\n",
              "      <td>-0.475382</td>\n",
              "      <td>0.427537</td>\n",
              "      <td>0.358861</td>\n",
              "      <td>-0.424313</td>\n",
              "      <td>1</td>\n",
              "      <td>-0.407303</td>\n",
              "      <td>-0.233756</td>\n",
              "      <td>0.819185</td>\n",
              "      <td>1.269009</td>\n",
              "      <td>0.156911</td>\n",
              "      <td>0.290884</td>\n",
              "    </tr>\n",
              "    <tr>\n",
              "      <th>2</th>\n",
              "      <td>0</td>\n",
              "      <td>06/01/2005</td>\n",
              "      <td>-0.441439</td>\n",
              "      <td>0.626384</td>\n",
              "      <td>-0.668080</td>\n",
              "      <td>-2.114100</td>\n",
              "      <td>-2.116581</td>\n",
              "      <td>-1.860243</td>\n",
              "      <td>-0.457521</td>\n",
              "      <td>1</td>\n",
              "      <td>-0.272444</td>\n",
              "      <td>-0.734872</td>\n",
              "      <td>0.681865</td>\n",
              "      <td>1.681548</td>\n",
              "      <td>-0.115477</td>\n",
              "      <td>0.787310</td>\n",
              "    </tr>\n",
              "    <tr>\n",
              "      <th>3</th>\n",
              "      <td>0</td>\n",
              "      <td>07/01/2005</td>\n",
              "      <td>-0.439066</td>\n",
              "      <td>-0.656559</td>\n",
              "      <td>-0.735951</td>\n",
              "      <td>1.056629</td>\n",
              "      <td>0.135843</td>\n",
              "      <td>0.007295</td>\n",
              "      <td>-0.444238</td>\n",
              "      <td>1</td>\n",
              "      <td>-0.452944</td>\n",
              "      <td>-0.775754</td>\n",
              "      <td>0.549799</td>\n",
              "      <td>1.944195</td>\n",
              "      <td>-0.264729</td>\n",
              "      <td>0.294628</td>\n",
              "    </tr>\n",
              "    <tr>\n",
              "      <th>4</th>\n",
              "      <td>0</td>\n",
              "      <td>08/01/2005</td>\n",
              "      <td>-0.441822</td>\n",
              "      <td>1.990377</td>\n",
              "      <td>0.573270</td>\n",
              "      <td>0.782239</td>\n",
              "      <td>0.348441</td>\n",
              "      <td>0.261044</td>\n",
              "      <td>-0.457521</td>\n",
              "      <td>1</td>\n",
              "      <td>-0.385184</td>\n",
              "      <td>-0.561367</td>\n",
              "      <td>0.445049</td>\n",
              "      <td>1.480001</td>\n",
              "      <td>0.013732</td>\n",
              "      <td>0.152242</td>\n",
              "    </tr>\n",
              "  </tbody>\n",
              "</table>\n",
              "</div>\n",
              "    <div class=\"colab-df-buttons\">\n",
              "\n",
              "  <div class=\"colab-df-container\">\n",
              "    <button class=\"colab-df-convert\" onclick=\"convertToInteractive('df-f1ec970a-8b05-4661-8b4a-2b3d30fffad8')\"\n",
              "            title=\"Convert this dataframe to an interactive table.\"\n",
              "            style=\"display:none;\">\n",
              "\n",
              "  <svg xmlns=\"http://www.w3.org/2000/svg\" height=\"24px\" viewBox=\"0 -960 960 960\">\n",
              "    <path d=\"M120-120v-720h720v720H120Zm60-500h600v-160H180v160Zm220 220h160v-160H400v160Zm0 220h160v-160H400v160ZM180-400h160v-160H180v160Zm440 0h160v-160H620v160ZM180-180h160v-160H180v160Zm440 0h160v-160H620v160Z\"/>\n",
              "  </svg>\n",
              "    </button>\n",
              "\n",
              "  <style>\n",
              "    .colab-df-container {\n",
              "      display:flex;\n",
              "      gap: 12px;\n",
              "    }\n",
              "\n",
              "    .colab-df-convert {\n",
              "      background-color: #E8F0FE;\n",
              "      border: none;\n",
              "      border-radius: 50%;\n",
              "      cursor: pointer;\n",
              "      display: none;\n",
              "      fill: #1967D2;\n",
              "      height: 32px;\n",
              "      padding: 0 0 0 0;\n",
              "      width: 32px;\n",
              "    }\n",
              "\n",
              "    .colab-df-convert:hover {\n",
              "      background-color: #E2EBFA;\n",
              "      box-shadow: 0px 1px 2px rgba(60, 64, 67, 0.3), 0px 1px 3px 1px rgba(60, 64, 67, 0.15);\n",
              "      fill: #174EA6;\n",
              "    }\n",
              "\n",
              "    .colab-df-buttons div {\n",
              "      margin-bottom: 4px;\n",
              "    }\n",
              "\n",
              "    [theme=dark] .colab-df-convert {\n",
              "      background-color: #3B4455;\n",
              "      fill: #D2E3FC;\n",
              "    }\n",
              "\n",
              "    [theme=dark] .colab-df-convert:hover {\n",
              "      background-color: #434B5C;\n",
              "      box-shadow: 0px 1px 3px 1px rgba(0, 0, 0, 0.15);\n",
              "      filter: drop-shadow(0px 1px 2px rgba(0, 0, 0, 0.3));\n",
              "      fill: #FFFFFF;\n",
              "    }\n",
              "  </style>\n",
              "\n",
              "    <script>\n",
              "      const buttonEl =\n",
              "        document.querySelector('#df-f1ec970a-8b05-4661-8b4a-2b3d30fffad8 button.colab-df-convert');\n",
              "      buttonEl.style.display =\n",
              "        google.colab.kernel.accessAllowed ? 'block' : 'none';\n",
              "\n",
              "      async function convertToInteractive(key) {\n",
              "        const element = document.querySelector('#df-f1ec970a-8b05-4661-8b4a-2b3d30fffad8');\n",
              "        const dataTable =\n",
              "          await google.colab.kernel.invokeFunction('convertToInteractive',\n",
              "                                                    [key], {});\n",
              "        if (!dataTable) return;\n",
              "\n",
              "        const docLinkHtml = 'Like what you see? Visit the ' +\n",
              "          '<a target=\"_blank\" href=https://colab.research.google.com/notebooks/data_table.ipynb>data table notebook</a>'\n",
              "          + ' to learn more about interactive tables.';\n",
              "        element.innerHTML = '';\n",
              "        dataTable['output_type'] = 'display_data';\n",
              "        await google.colab.output.renderOutput(dataTable, element);\n",
              "        const docLink = document.createElement('div');\n",
              "        docLink.innerHTML = docLinkHtml;\n",
              "        element.appendChild(docLink);\n",
              "      }\n",
              "    </script>\n",
              "  </div>\n",
              "\n",
              "\n",
              "<div id=\"df-a9bfca1c-3f80-42f3-80f7-5c53913051b4\">\n",
              "  <button class=\"colab-df-quickchart\" onclick=\"quickchart('df-a9bfca1c-3f80-42f3-80f7-5c53913051b4')\"\n",
              "            title=\"Suggest charts\"\n",
              "            style=\"display:none;\">\n",
              "\n",
              "<svg xmlns=\"http://www.w3.org/2000/svg\" height=\"24px\"viewBox=\"0 0 24 24\"\n",
              "     width=\"24px\">\n",
              "    <g>\n",
              "        <path d=\"M19 3H5c-1.1 0-2 .9-2 2v14c0 1.1.9 2 2 2h14c1.1 0 2-.9 2-2V5c0-1.1-.9-2-2-2zM9 17H7v-7h2v7zm4 0h-2V7h2v10zm4 0h-2v-4h2v4z\"/>\n",
              "    </g>\n",
              "</svg>\n",
              "  </button>\n",
              "\n",
              "<style>\n",
              "  .colab-df-quickchart {\n",
              "      --bg-color: #E8F0FE;\n",
              "      --fill-color: #1967D2;\n",
              "      --hover-bg-color: #E2EBFA;\n",
              "      --hover-fill-color: #174EA6;\n",
              "      --disabled-fill-color: #AAA;\n",
              "      --disabled-bg-color: #DDD;\n",
              "  }\n",
              "\n",
              "  [theme=dark] .colab-df-quickchart {\n",
              "      --bg-color: #3B4455;\n",
              "      --fill-color: #D2E3FC;\n",
              "      --hover-bg-color: #434B5C;\n",
              "      --hover-fill-color: #FFFFFF;\n",
              "      --disabled-bg-color: #3B4455;\n",
              "      --disabled-fill-color: #666;\n",
              "  }\n",
              "\n",
              "  .colab-df-quickchart {\n",
              "    background-color: var(--bg-color);\n",
              "    border: none;\n",
              "    border-radius: 50%;\n",
              "    cursor: pointer;\n",
              "    display: none;\n",
              "    fill: var(--fill-color);\n",
              "    height: 32px;\n",
              "    padding: 0;\n",
              "    width: 32px;\n",
              "  }\n",
              "\n",
              "  .colab-df-quickchart:hover {\n",
              "    background-color: var(--hover-bg-color);\n",
              "    box-shadow: 0 1px 2px rgba(60, 64, 67, 0.3), 0 1px 3px 1px rgba(60, 64, 67, 0.15);\n",
              "    fill: var(--button-hover-fill-color);\n",
              "  }\n",
              "\n",
              "  .colab-df-quickchart-complete:disabled,\n",
              "  .colab-df-quickchart-complete:disabled:hover {\n",
              "    background-color: var(--disabled-bg-color);\n",
              "    fill: var(--disabled-fill-color);\n",
              "    box-shadow: none;\n",
              "  }\n",
              "\n",
              "  .colab-df-spinner {\n",
              "    border: 2px solid var(--fill-color);\n",
              "    border-color: transparent;\n",
              "    border-bottom-color: var(--fill-color);\n",
              "    animation:\n",
              "      spin 1s steps(1) infinite;\n",
              "  }\n",
              "\n",
              "  @keyframes spin {\n",
              "    0% {\n",
              "      border-color: transparent;\n",
              "      border-bottom-color: var(--fill-color);\n",
              "      border-left-color: var(--fill-color);\n",
              "    }\n",
              "    20% {\n",
              "      border-color: transparent;\n",
              "      border-left-color: var(--fill-color);\n",
              "      border-top-color: var(--fill-color);\n",
              "    }\n",
              "    30% {\n",
              "      border-color: transparent;\n",
              "      border-left-color: var(--fill-color);\n",
              "      border-top-color: var(--fill-color);\n",
              "      border-right-color: var(--fill-color);\n",
              "    }\n",
              "    40% {\n",
              "      border-color: transparent;\n",
              "      border-right-color: var(--fill-color);\n",
              "      border-top-color: var(--fill-color);\n",
              "    }\n",
              "    60% {\n",
              "      border-color: transparent;\n",
              "      border-right-color: var(--fill-color);\n",
              "    }\n",
              "    80% {\n",
              "      border-color: transparent;\n",
              "      border-right-color: var(--fill-color);\n",
              "      border-bottom-color: var(--fill-color);\n",
              "    }\n",
              "    90% {\n",
              "      border-color: transparent;\n",
              "      border-bottom-color: var(--fill-color);\n",
              "    }\n",
              "  }\n",
              "</style>\n",
              "\n",
              "  <script>\n",
              "    async function quickchart(key) {\n",
              "      const quickchartButtonEl =\n",
              "        document.querySelector('#' + key + ' button');\n",
              "      quickchartButtonEl.disabled = true;  // To prevent multiple clicks.\n",
              "      quickchartButtonEl.classList.add('colab-df-spinner');\n",
              "      try {\n",
              "        const charts = await google.colab.kernel.invokeFunction(\n",
              "            'suggestCharts', [key], {});\n",
              "      } catch (error) {\n",
              "        console.error('Error during call to suggestCharts:', error);\n",
              "      }\n",
              "      quickchartButtonEl.classList.remove('colab-df-spinner');\n",
              "      quickchartButtonEl.classList.add('colab-df-quickchart-complete');\n",
              "    }\n",
              "    (() => {\n",
              "      let quickchartButtonEl =\n",
              "        document.querySelector('#df-a9bfca1c-3f80-42f3-80f7-5c53913051b4 button');\n",
              "      quickchartButtonEl.style.display =\n",
              "        google.colab.kernel.accessAllowed ? 'block' : 'none';\n",
              "    })();\n",
              "  </script>\n",
              "</div>\n",
              "\n",
              "    </div>\n",
              "  </div>\n"
            ],
            "application/vnd.google.colaboratory.intrinsic+json": {
              "type": "dataframe",
              "variable_name": "data",
              "summary": "{\n  \"name\": \"data\",\n  \"rows\": 23988,\n  \"fields\": [\n    {\n      \"column\": \"Region\",\n      \"properties\": {\n        \"dtype\": \"number\",\n        \"std\": 2,\n        \"min\": 0,\n        \"max\": 6,\n        \"num_unique_values\": 7,\n        \"samples\": [\n          0,\n          1,\n          5\n        ],\n        \"semantic_type\": \"\",\n        \"description\": \"\"\n      }\n    },\n    {\n      \"column\": \"Date\",\n      \"properties\": {\n        \"dtype\": \"category\",\n        \"num_unique_values\": 5832,\n        \"samples\": [\n          \"18/01/2015\",\n          \"18/04/2012\",\n          \"23/07/2014\"\n        ],\n        \"semantic_type\": \"\",\n        \"description\": \"\"\n      }\n    },\n    {\n      \"column\": \"Estimated_fire_area\",\n      \"properties\": {\n        \"dtype\": \"number\",\n        \"std\": 0.5453179182279512,\n        \"min\": -0.4558584882589693,\n        \"max\": 2.991863241087811,\n        \"num_unique_values\": 16984,\n        \"samples\": [\n          -0.1178673719151388,\n          -0.3856762838270272,\n          2.841836497228759\n        ],\n        \"semantic_type\": \"\",\n        \"description\": \"\"\n      }\n    },\n    {\n      \"column\": \"Mean_estimated_fire_brightness\",\n      \"properties\": {\n        \"dtype\": \"number\",\n        \"std\": 0.9375674148663294,\n        \"min\": -2.977787029361773,\n        \"max\": 2.9921934415361795,\n        \"num_unique_values\": 18882,\n        \"samples\": [\n          -1.6599945346471645,\n          -0.3142154650958019,\n          -0.2579742821981739\n        ],\n        \"semantic_type\": \"\",\n        \"description\": \"\"\n      }\n    },\n    {\n      \"column\": \"Mean_estimated_fire_radiative_power\",\n      \"properties\": {\n        \"dtype\": \"number\",\n        \"std\": 0.6908485493195617,\n        \"min\": -1.2346546475431912,\n        \"max\": 2.995607224967814,\n        \"num_unique_values\": 19896,\n        \"samples\": [\n          -0.1955717754699485,\n          -0.3514471488266383,\n          1.8536287361195596\n        ],\n        \"semantic_type\": \"\",\n        \"description\": \"\"\n      }\n    },\n    {\n      \"column\": \"Mean_confidence\",\n      \"properties\": {\n        \"dtype\": \"number\",\n        \"std\": 0.9427464720003352,\n        \"min\": -2.6476357772882286,\n        \"max\": 2.840163279298792,\n        \"num_unique_values\": 10012,\n        \"samples\": [\n          -0.3132424662670148,\n          0.5772346462787635,\n          0.0027217214237674\n        ],\n        \"semantic_type\": \"\",\n        \"description\": \"\"\n      }\n    },\n    {\n      \"column\": \"Std_confidence\",\n      \"properties\": {\n        \"dtype\": \"number\",\n        \"std\": 0.8079296782667724,\n        \"min\": -2.997125901203176,\n        \"max\": 2.179586468767816,\n        \"num_unique_values\": 17746,\n        \"samples\": [\n          0.9539100675841632,\n          0.2618248058367153,\n          -0.4443670528114776\n        ],\n        \"semantic_type\": \"\",\n        \"description\": \"\"\n      }\n    },\n    {\n      \"column\": \"Var_confidence\",\n      \"properties\": {\n        \"dtype\": \"number\",\n        \"std\": 0.8118567748795732,\n        \"min\": -2.182463271550064,\n        \"max\": 2.999919566192405,\n        \"num_unique_values\": 17745,\n        \"samples\": [\n          1.0569381996453409,\n          0.1560490333722204,\n          -0.6172139882959284\n        ],\n        \"semantic_type\": \"\",\n        \"description\": \"\"\n      }\n    },\n    {\n      \"column\": \"Count\",\n      \"properties\": {\n        \"dtype\": \"number\",\n        \"std\": 0.5674913042427517,\n        \"min\": -0.4708046212660519,\n        \"max\": 2.9828642739590934,\n        \"num_unique_values\": 504,\n        \"samples\": [\n          0.4789543249208631,\n          1.7940051734873603,\n          1.6080383868213914\n        ],\n        \"semantic_type\": \"\",\n        \"description\": \"\"\n      }\n    },\n    {\n      \"column\": \"Replaced\",\n      \"properties\": {\n        \"dtype\": \"number\",\n        \"std\": 0,\n        \"min\": 0,\n        \"max\": 1,\n        \"num_unique_values\": 2,\n        \"samples\": [\n          0,\n          1\n        ],\n        \"semantic_type\": \"\",\n        \"description\": \"\"\n      }\n    },\n    {\n      \"column\": \"Precipitation\",\n      \"properties\": {\n        \"dtype\": \"number\",\n        \"std\": 0.6169878771794499,\n        \"min\": -0.4842234265379662,\n        \"max\": 2.996862364749136,\n        \"num_unique_values\": 23892,\n        \"samples\": [\n          -0.4304821405221187,\n          -0.4837852400370619\n        ],\n        \"semantic_type\": \"\",\n        \"description\": \"\"\n      }\n    },\n    {\n      \"column\": \"RelativeHumidity\",\n      \"properties\": {\n        \"dtype\": \"number\",\n        \"std\": 0.9672252090749753,\n        \"min\": -2.521626914997823,\n        \"max\": 2.998252815366845,\n        \"num_unique_values\": 23952,\n        \"samples\": [\n          0.8228124006625792,\n          -1.0438964340671395\n        ],\n        \"semantic_type\": \"\",\n        \"description\": \"\"\n      }\n    },\n    {\n      \"column\": \"SoilWaterContent\",\n      \"properties\": {\n        \"dtype\": \"number\",\n        \"std\": 0.9700210247519452,\n        \"min\": -1.3878634825565088,\n        \"max\": 2.998565836771545,\n        \"num_unique_values\": 23976,\n        \"samples\": [\n          1.5497550585841142,\n          1.3808378218698292\n        ],\n        \"semantic_type\": \"\",\n        \"description\": \"\"\n      }\n    },\n    {\n      \"column\": \"SolarRadiation\",\n      \"properties\": {\n        \"dtype\": \"number\",\n        \"std\": 0.9851137477613089,\n        \"min\": -2.919006783514372,\n        \"max\": 2.2215564683654465,\n        \"num_unique_values\": 23971,\n        \"samples\": [\n          1.782126929818167,\n          -1.4814783510644174\n        ],\n        \"semantic_type\": \"\",\n        \"description\": \"\"\n      }\n    },\n    {\n      \"column\": \"Temperature\",\n      \"properties\": {\n        \"dtype\": \"number\",\n        \"std\": 0.995551118044408,\n        \"min\": -2.788796742975045,\n        \"max\": 2.5277287237519444,\n        \"num_unique_values\": 23970,\n        \"samples\": [\n          -0.4478064767475734,\n          -0.5582073722260512\n        ],\n        \"semantic_type\": \"\",\n        \"description\": \"\"\n      }\n    },\n    {\n      \"column\": \"WindSpeed\",\n      \"properties\": {\n        \"dtype\": \"number\",\n        \"std\": 0.9512592079695257,\n        \"min\": -2.5837085301059872,\n        \"max\": 2.997456819308445,\n        \"num_unique_values\": 23960,\n        \"samples\": [\n          0.3604618697496327,\n          -0.1700823119439508\n        ],\n        \"semantic_type\": \"\",\n        \"description\": \"\"\n      }\n    }\n  ]\n}"
            }
          },
          "metadata": {},
          "execution_count": 1
        }
      ],
      "source": [
        "import pandas as pd\n",
        "\n",
        "data = pd.read_csv(\"https://raw.githubusercontent.com/AlexBeanie/machine_learning_CI-0148/refs/heads/main/Lab2/ProcessedFireData.csv\")\n",
        "data.head()"
      ]
    },
    {
      "cell_type": "markdown",
      "id": "920cf7f0",
      "metadata": {
        "id": "920cf7f0"
      },
      "source": [
        "Es destacable notar que los valores de **Region** ahora son números, sin embargo su significado verdadero es el siguiente:\n",
        "\n",
        "| Número | Nombre de Región |\n",
        "|--------|-------------|\n",
        "| 0      | NSW         |\n",
        "| 1      | NT          |\n",
        "| 2      | QL          |\n",
        "| 3      | SA          |\n",
        "| 4      | TA          |\n",
        "| 5      | VI          |\n",
        "| 6      | WA          |\n",
        "\n",
        "De igual manera, la columna **Replaced** cuenta con la siguiente simbolización:\n",
        "\n",
        "| Número | Valor de 'Replaced' |\n",
        "|--------|-------------|\n",
        "| 0      | N         |\n",
        "| 1      | R          |"
      ]
    },
    {
      "cell_type": "markdown",
      "id": "a571b945",
      "metadata": {
        "id": "a571b945"
      },
      "source": [
        "## Separación de datos y selección de características"
      ]
    },
    {
      "cell_type": "markdown",
      "id": "98b16172",
      "metadata": {
        "id": "98b16172"
      },
      "source": [
        "Se separarán los datos en 4 partes:\n",
        "\n",
        "- **Conjunto de Entrenamiento (training set):**\n",
        "    - `X_train` (*features* de entrenamiento)\n",
        "    - `y_train` (*target* de entrenamiento)\n",
        "- **Conjunto de Pruebas (test set):**\n",
        "    - `X_test` (*features* de pruebas)\n",
        "    - `y_test` (*target* de pruebas)"
      ]
    },
    {
      "cell_type": "code",
      "execution_count": null,
      "id": "1978f786",
      "metadata": {
        "id": "1978f786"
      },
      "outputs": [],
      "source": [
        "from sklearn.model_selection import train_test_split\n",
        "\n",
        "\n",
        "y = data['Estimated_fire_area']\n",
        "\n",
        "selected_features = ['Mean_estimated_fire_brightness', 'Mean_estimated_fire_radiative_power', 'RelativeHumidity', 'SoilWaterContent']\n",
        "\n",
        "X = data[selected_features]\n",
        "\n",
        "X_train, X_test, y_train, y_test = train_test_split(X, y, test_size=0.2, random_state=42)"
      ]
    },
    {
      "cell_type": "markdown",
      "id": "45633749",
      "metadata": {
        "id": "45633749"
      },
      "source": [
        "# 3. Selección de Algoritmos"
      ]
    },
    {
      "cell_type": "markdown",
      "id": "07066173",
      "metadata": {
        "id": "07066173"
      },
      "source": [
        "## Regresión lineal"
      ]
    },
    {
      "cell_type": "markdown",
      "id": "40edc21d",
      "metadata": {
        "id": "40edc21d"
      },
      "source": [
        "Se utilizará regresión lineal como modelo base, esto debido a su simplicidad y facilidad de uso con respecto a al conjunto de datos."
      ]
    },
    {
      "cell_type": "markdown",
      "id": "b740c319",
      "metadata": {
        "id": "b740c319"
      },
      "source": [
        "## KNN"
      ]
    },
    {
      "cell_type": "markdown",
      "id": "866251bd",
      "metadata": {
        "id": "866251bd"
      },
      "source": [
        "KNN es uno de los modelos más simples y fáciles de implementar, además de que se adapta bastante bien a casi cualquier tipo de datos. Si bien es cierto que puede llegar a tener problemas con datos una dimensionalidad alta, dado que sólamente se usarán 4 *features*, este no es un inconveniente en nuestro caso.\n",
        "\n",
        "KNN posee un hiper-parámetro, que es la cantidad de vecinos a utilizar."
      ]
    },
    {
      "cell_type": "markdown",
      "id": "e418d0ce",
      "metadata": {
        "id": "e418d0ce"
      },
      "source": [
        "## Random Forest"
      ]
    },
    {
      "cell_type": "markdown",
      "id": "cf771b2e",
      "metadata": {
        "id": "cf771b2e"
      },
      "source": [
        "Random Forest es un modelo bastante más complejo que Regresión Lineal o KNN. Además, dado que Random Forest promedia los resultados de cada árbol de decisión, es más difícil que se caiga en sobre-ajuste. Es importante recordar que este modelo tiene 3 hiper-parámetros:\n",
        "- la cantidad de árboles utilizados\n",
        "- el número de *features* muestreados\n",
        "- el tamaño de los nodos."
      ]
    },
    {
      "cell_type": "markdown",
      "id": "619823f1",
      "metadata": {
        "id": "619823f1"
      },
      "source": [
        "## Gradient Boosting"
      ]
    },
    {
      "cell_type": "markdown",
      "id": "a3a499e6",
      "metadata": {
        "id": "a3a499e6"
      },
      "source": [
        "`Gradient Boosting` es un modelo de machine learning que puede utilizarse tanto para regresión como clasificación de variables de respuesta. Este modelo funciona utilizando una gran cantidad de *modelos débiles* para poder construir un modelo más fuerte.\n",
        "\n",
        "\n",
        "Se basa en la ideología de que se deben *tomar pequeños pasos hacia el camino correcto* y que si se realiza esto muchas veces, se puede generar una buena predicción de los datos. En general, esta es la metodología de trabajo de los modelos ensamblados. Para este caso específico, se utilizará como modelo base árboles de decisión.\n",
        "\n",
        "\n",
        "### Funcionamiento\n",
        "\n",
        "Para tareas de regresión, el modelo funciona de la siguiente manera:\n",
        "\n",
        "1. Se toma el promedio de la variable de respuesta como primera predicción.\n",
        "2. Se calculan las diferencias entre las variables de respuesta y el valor predicho (inicialmente el promedio), estos valores son llamados *pseudo-residuales*.\n",
        "3. Se crea un árbol de decisión utilizando como variable de respuesta a los pseudo-residuales.\n",
        "4. Realiza esto en bucle hasta llegar al valor máximo establecido de árboles ó hasta que no se encuentre una reducción significativa en los residuales.\n",
        "\n",
        "La forma en la que se realizan predicciones basadas en los pseudo-residuales es que se toma la primera predicción (el promedio), y se le suman los valores de los pseudo-residuales presentes en el árbol de decisión.\n",
        "\n",
        "Para prevenir overfitting, este modelo utiliza un hiperparámetro llamado *tasa de aprendizaje*, el cual es un valor entre 0 y 1 que aplica a cada árbol por igual y mide la influencia que tiene el valor del árbol de decisión sobre la predicción final. La tasa de aprendizaje se multiplica con el valor resultante de cada árbol de decisión.\n",
        "\n",
        "Cuando se cuenta con múltiples árboles, se suman los valores de todos los árboles (con la tasa de aprendizaje incluida), junto con el promedio de los datos iniciales. Esto anterior, genera el valor de predicción del modelo total.\n",
        "\n",
        "En este modelo, cada árbol que se genera busca disminuir el tamaño de los pseudo-residuales.\n",
        "\n",
        "Los otros hiperparámetros con los que cuenta este modelo son:\n",
        "\n",
        "- Cantidad de árboles a generar\n",
        "- Profundidad máxima de los árboles"
      ]
    },
    {
      "cell_type": "markdown",
      "id": "b08dad34",
      "metadata": {
        "id": "b08dad34"
      },
      "source": [
        "## Bagging"
      ]
    },
    {
      "cell_type": "markdown",
      "id": "947caad2",
      "metadata": {
        "id": "947caad2"
      },
      "source": [
        "El término `Bagging` hace referencia a la técnica que consta de implementar varias instancias del mismo modelo con un subconjunto aleatorio del mismo conjunto de datos de entrenamiento original. Posteriormente, se agregan cada una de las predicciones individuales para formar una predicción final. Este método es una buena forma de reducir la varianza de una estimación, además de mejorar su rendimiento.\n",
        "\n",
        "Debido a la gran cantidad de `outliers` presentes en el `dataset`, se considera oportuno implementar esta técnica con tal de reducir la cantidad de ruido (que afecta a KNN simple), y mejorar la capacidad de predicción del modelo. A modo de comparación, se tomará uno de los modelos anteriores para la implementación del `Bagging`.\n",
        "\n",
        "Dado que `Random Forest` es también una forma de entrenamiento ensamblado, no se utilizará como modelo objetivo para `Bagging`. Es por esto que se utilizará a `KNN` como modelo objetivo para esta estrategia."
      ]
    },
    {
      "cell_type": "markdown",
      "id": "f92ff215",
      "metadata": {
        "id": "f92ff215"
      },
      "source": [
        "### Funcionamiento"
      ]
    },
    {
      "cell_type": "markdown",
      "id": "d0914310",
      "metadata": {
        "id": "d0914310"
      },
      "source": [
        "`Bagging` funciona mediante tres simples pasos:\n",
        "1. De los datos de entrenamiento originales, se seleccionan aleatoriamente y con reemplazo, un subconjunto de datos para entrenar a uno de los modelos. Esto quiere decir que en un mismo subconjunto, cabe la posibilidad de que existan datos repetidos. Esta selección se repite por cada uno de los modelos a implementar.\n",
        "2. Cada modelo se entrena independientemente y en paralelo a los otros.\n",
        "3. Finalmente, se retorna una predicción dependiendo de los resultados de cada modelo. En el caso de regresión, se retorna el promedio de todas las predicciones (*soft voting*). En caso de hacer clasificación, entonces se retorna la clase con la mayoría de los votos (*hard voting*)"
      ]
    },
    {
      "cell_type": "markdown",
      "id": "60f6a561",
      "metadata": {
        "id": "60f6a561"
      },
      "source": [
        "### Boosting vs. Bagging"
      ]
    },
    {
      "cell_type": "markdown",
      "id": "898fd87c",
      "metadata": {
        "id": "898fd87c"
      },
      "source": [
        "Es importante mencionar que `Bagging` y `Boosting` son distintos métodos, ya que:\n",
        "\n",
        "- `Bagging` reduce la `varianza` (previene el sobre-ajuste)\n",
        "- `Bagging` usa muestreo con reemplazo, mientras que `Boosting` no\n",
        "- Durante `Boosting` los modelos se entrenan secuencialmente (para arreglar los errores cometidos anteriormente), por otro lado,\n",
        "`Bagging` entrena a los modelos independientemente."
      ]
    },
    {
      "cell_type": "markdown",
      "id": "586806df",
      "metadata": {
        "id": "586806df"
      },
      "source": [
        "# 4. Entrenamiento y Evaluación de los Modelos"
      ]
    },
    {
      "cell_type": "markdown",
      "id": "53907cb9",
      "metadata": {
        "id": "53907cb9"
      },
      "source": [
        "Dado que el problema planteado es un problema de regresión, se han seleccionado las siguientes métricas para evaluar el rendimiento de los modelos:\n",
        "\n",
        "- Mean Absolute Error (MAE)\n",
        "- Mean Squared Error (MSE)\n",
        "- Root Mean Squared Error (RMSE)\n",
        "\n",
        "La decisión de utilizar estas tres métricas responde a diferentes aspectos del comportamiento de los modelos. El MAE es útil para evaluar el error promedio absoluto, lo que permite conocer el rendimiento del modelo sin dar un peso adicional a los errores grandes o pequeños, es decir, es una métrica menos sensible a los valores atípicos.\n",
        "\n",
        "Por otro lado, el MSE y el RMSE proporcionan métricas que penalizan los errores grandes, siendo más sensibles a los valores atípicos. Esto es relevante debido a la presencia de varios *outliers* en el dataset original. En este caso se preferiría incluir el RMSE porque, al estar en la misma escala que los datos originales, es más fácilmente interpretable en comparación con el MSE, que presenta los errores elevados al cuadrado.\n",
        "\n",
        "En general, se utilizarán los 3 para propósitos comparativos."
      ]
    },
    {
      "cell_type": "markdown",
      "id": "2668e43d",
      "metadata": {
        "id": "2668e43d"
      },
      "source": [
        "Se importarán las funciones de `scikit-learn` para el cálculo de métricas:"
      ]
    },
    {
      "cell_type": "code",
      "execution_count": null,
      "id": "3292c6e8",
      "metadata": {
        "id": "3292c6e8"
      },
      "outputs": [],
      "source": [
        "from sklearn.metrics import mean_absolute_error, mean_squared_error"
      ]
    },
    {
      "cell_type": "markdown",
      "id": "b388e93e",
      "metadata": {
        "id": "b388e93e"
      },
      "source": [
        "También se importará la librería para hacer *cross-validation* con los modelos:"
      ]
    },
    {
      "cell_type": "code",
      "execution_count": null,
      "id": "8bdf4ba4",
      "metadata": {
        "id": "8bdf4ba4"
      },
      "outputs": [],
      "source": [
        "from sklearn.model_selection import GridSearchCV"
      ]
    },
    {
      "cell_type": "markdown",
      "source": [
        "Para medir el tiempo de ejecución se utilizará la librería `time`"
      ],
      "metadata": {
        "id": "HmP4bYqX9vC2"
      },
      "id": "HmP4bYqX9vC2"
    },
    {
      "cell_type": "code",
      "source": [
        "import time"
      ],
      "metadata": {
        "id": "5QL3wFsZ92QS"
      },
      "id": "5QL3wFsZ92QS",
      "execution_count": null,
      "outputs": []
    },
    {
      "cell_type": "markdown",
      "id": "0b36561c",
      "metadata": {
        "id": "0b36561c"
      },
      "source": [
        "## Regresión lineal"
      ]
    },
    {
      "cell_type": "markdown",
      "id": "917246bf",
      "metadata": {
        "id": "917246bf"
      },
      "source": [
        "Para iniciar con la realización de la regresión lineal, se necesitarán importar las siguientes librerías:"
      ]
    },
    {
      "cell_type": "code",
      "execution_count": null,
      "id": "46ace105",
      "metadata": {
        "id": "46ace105"
      },
      "outputs": [],
      "source": [
        "import numpy as np\n",
        "from sklearn.linear_model import LinearRegression"
      ]
    },
    {
      "cell_type": "markdown",
      "source": [
        "Se entrena el modelo de regresión lineal usando los datos de *train*:"
      ],
      "metadata": {
        "id": "fGTDOuyRQNpb"
      },
      "id": "fGTDOuyRQNpb"
    },
    {
      "cell_type": "code",
      "execution_count": null,
      "id": "e0b6f798",
      "metadata": {
        "id": "e0b6f798"
      },
      "outputs": [],
      "source": [
        "model_lr = LinearRegression()\n",
        "\n",
        "start_time = time.time()\n",
        "model_lr.fit(X_train, y_train)\n",
        "end_time = time.time()"
      ]
    },
    {
      "cell_type": "markdown",
      "source": [
        "Se realizan predicciones sobre el *test set* usando el modelo entrenado:"
      ],
      "metadata": {
        "id": "_CEjU8oaQWoQ"
      },
      "id": "_CEjU8oaQWoQ"
    },
    {
      "cell_type": "code",
      "execution_count": null,
      "id": "2fe50ba7",
      "metadata": {
        "id": "2fe50ba7"
      },
      "outputs": [],
      "source": [
        "y_pred_lr = model_lr.predict(X_test)\n",
        "y_pred_lr_train = model_lr.predict(X_train)"
      ]
    },
    {
      "cell_type": "markdown",
      "source": [
        "Calculando las métricas para calcular el rendimiento del modelo de regresión lineal:"
      ],
      "metadata": {
        "id": "L8POrrG_Qa2S"
      },
      "id": "L8POrrG_Qa2S"
    },
    {
      "cell_type": "code",
      "execution_count": null,
      "id": "a40f45f3",
      "metadata": {
        "colab": {
          "base_uri": "https://localhost:8080/"
        },
        "id": "a40f45f3",
        "outputId": "1f8f2e5b-000a-4fac-fbb5-dda731ca487f"
      },
      "outputs": [
        {
          "output_type": "stream",
          "name": "stdout",
          "text": [
            "Mean Absolute Error (MAE) de Regresión Lineal (test set): 0.311186053440148\n",
            "Mean Absolute Error (MAE) de Regresión Lineal (train set): 0.3094534043049928\n",
            "Mean Squared Error (MSE) de Regresión Lineal (test set): 0.21852652591493654\n",
            "Mean Squared Error (MSE) de Regresión Lineal (train set): 0.21202202885551263\n",
            "Root Mean Squared Error (RMSE) de Regresión Lineal (test set): 0.46746820845372633\n",
            "Root Mean Squared Error (RMSE) de Regresión Lineal (train set): 0.46045849851589515\n",
            "Tiempo de entrenamiento: 0.03149724006652832 segundos\n"
          ]
        }
      ],
      "source": [
        "mae_lr = mean_absolute_error(y_test, y_pred_lr)\n",
        "mae_lr_train = mean_absolute_error(y_train, y_pred_lr_train)\n",
        "print(\"Mean Absolute Error (MAE) de Regresión Lineal (test set):\", mae_lr)\n",
        "print(\"Mean Absolute Error (MAE) de Regresión Lineal (train set):\", mae_lr_train)\n",
        "\n",
        "mse_lr = mean_squared_error(y_test, y_pred_lr)\n",
        "mse_lr_train = mean_squared_error(y_train, y_pred_lr_train)\n",
        "print(\"Mean Squared Error (MSE) de Regresión Lineal (test set):\", mse_lr)\n",
        "print(\"Mean Squared Error (MSE) de Regresión Lineal (train set):\", mse_lr_train)\n",
        "\n",
        "rmse_lr = np.sqrt(mse_lr)\n",
        "rmse_lr_train = np.sqrt(mse_lr_train)\n",
        "print(\"Root Mean Squared Error (RMSE) de Regresión Lineal (test set):\", rmse_lr)\n",
        "print(\"Root Mean Squared Error (RMSE) de Regresión Lineal (train set):\", rmse_lr_train)\n",
        "\n",
        "print(f\"Tiempo de entrenamiento: {end_time - start_time} segundos\")"
      ]
    },
    {
      "cell_type": "markdown",
      "source": [],
      "metadata": {
        "id": "ua3fK_r5EyWw"
      },
      "id": "ua3fK_r5EyWw"
    },
    {
      "cell_type": "markdown",
      "id": "2d351741",
      "metadata": {
        "id": "2d351741"
      },
      "source": [
        "## KNN"
      ]
    },
    {
      "cell_type": "markdown",
      "id": "4b8ffce8",
      "metadata": {
        "id": "4b8ffce8"
      },
      "source": [
        "Para poder implementar el modelo de KNN, primero se debe importar la librería `KNeighborsRegressor`, para poder utilizar regresión con este modelo."
      ]
    },
    {
      "cell_type": "code",
      "execution_count": null,
      "id": "9f6fda0e",
      "metadata": {
        "id": "9f6fda0e"
      },
      "outputs": [],
      "source": [
        "from sklearn.neighbors import KNeighborsRegressor"
      ]
    },
    {
      "cell_type": "markdown",
      "id": "084ccc03",
      "metadata": {
        "id": "084ccc03"
      },
      "source": [
        "Una vez importado ahora se puede entrenar el modelo con los datos ya dividios anteriormente."
      ]
    },
    {
      "cell_type": "markdown",
      "id": "7734ebf0",
      "metadata": {
        "id": "7734ebf0"
      },
      "source": [
        "Sin embargo, antes se aplicará cross validation:"
      ]
    },
    {
      "cell_type": "code",
      "execution_count": null,
      "id": "f90c8012",
      "metadata": {
        "id": "f90c8012"
      },
      "outputs": [],
      "source": [
        "model_knn = KNeighborsRegressor()\n",
        "param_grid = {\n",
        "    # 11 or lower lead to overfitting, so we try higher values\n",
        "    'n_neighbors': [15, 18, 21]\n",
        "}\n",
        "grid_search = GridSearchCV(estimator=model_knn, param_grid=param_grid, cv=5, n_jobs=-1)"
      ]
    },
    {
      "cell_type": "code",
      "execution_count": null,
      "id": "58ca2498",
      "metadata": {
        "id": "58ca2498"
      },
      "outputs": [],
      "source": [
        "start_time = time.time()\n",
        "grid_search.fit(X_train, y_train)\n",
        "end_time = time.time()"
      ]
    },
    {
      "cell_type": "code",
      "execution_count": null,
      "id": "06c5975f",
      "metadata": {
        "colab": {
          "base_uri": "https://localhost:8080/"
        },
        "id": "06c5975f",
        "outputId": "7c57fe06-416e-4ca3-ae97-011fbae8cd49"
      },
      "outputs": [
        {
          "output_type": "stream",
          "name": "stdout",
          "text": [
            "Mejores parámetros encontrados por cv: {'n_neighbors': 21}\n"
          ]
        }
      ],
      "source": [
        "print(f\"Mejores parámetros encontrados por cv: {grid_search.best_params_}\")"
      ]
    },
    {
      "cell_type": "markdown",
      "id": "02bd2f9e",
      "metadata": {
        "id": "02bd2f9e"
      },
      "source": [
        "Ya con el modelo entrenado, es posible realizar las predicciones con el conjunto de pruebas."
      ]
    },
    {
      "cell_type": "code",
      "execution_count": null,
      "id": "669d2661",
      "metadata": {
        "id": "669d2661"
      },
      "outputs": [],
      "source": [
        "y_pred_knn = grid_search.predict(X_test)\n",
        "y_pred_knn_train = grid_search.predict(X_train)"
      ]
    },
    {
      "cell_type": "markdown",
      "id": "a31c95fa",
      "metadata": {
        "id": "a31c95fa"
      },
      "source": [
        "Los resultados de la prueba se analizarán con las métricas de `MAE`, `MSE` y `RMSE`"
      ]
    },
    {
      "cell_type": "code",
      "execution_count": null,
      "id": "c1b2c2e5",
      "metadata": {
        "colab": {
          "base_uri": "https://localhost:8080/"
        },
        "id": "c1b2c2e5",
        "outputId": "e6be7bc4-e5de-4ca6-fd34-4dea59d7c49f"
      },
      "outputs": [
        {
          "output_type": "stream",
          "name": "stdout",
          "text": [
            "Mean Absolute Error (MAE) de KNN (test set): 0.2479716112529561\n",
            "Mean Absolute Error (MAE) de KNN (train set): 0.2395269102506754\n",
            "Mean Squared Error (MSE) de KNN (test set): 0.17505397211535081\n",
            "Mean Squared Error (MSE) de KNN (train set): 0.15949447068670414\n",
            "Root Mean Squared Error (RMSE) de KNN (test set): 0.4183945173103381\n",
            "Root Mean Squared Error (RMSE) de KNN (train set): 0.3993675884278845\n",
            "Tiempo de entrenamiento: 4.085047483444214 segundos\n"
          ]
        }
      ],
      "source": [
        "mae_knn = mean_absolute_error(y_test, y_pred_knn)\n",
        "mae_knn_train = mean_absolute_error(y_train, y_pred_knn_train)\n",
        "print(\"Mean Absolute Error (MAE) de KNN (test set):\", mae_knn)\n",
        "print(\"Mean Absolute Error (MAE) de KNN (train set):\", mae_knn_train)\n",
        "\n",
        "mse_knn = mean_squared_error(y_test, y_pred_knn)\n",
        "mse_knn_train = mean_squared_error(y_train, y_pred_knn_train)\n",
        "print(\"Mean Squared Error (MSE) de KNN (test set):\", mse_knn)\n",
        "print(\"Mean Squared Error (MSE) de KNN (train set):\", mse_knn_train)\n",
        "\n",
        "rmse_knn = np.sqrt(mse_knn)\n",
        "rmse_knn_train = np.sqrt(mse_knn_train)\n",
        "print(\"Root Mean Squared Error (RMSE) de KNN (test set):\", rmse_knn)\n",
        "print(\"Root Mean Squared Error (RMSE) de KNN (train set):\", rmse_knn_train)\n",
        "\n",
        "print(f\"Tiempo de entrenamiento: {end_time - start_time} segundos\")"
      ]
    },
    {
      "cell_type": "markdown",
      "id": "3ee56738",
      "metadata": {
        "id": "3ee56738"
      },
      "source": [
        "Como se puede ver el MAE (0.2479) indica que el error promedio de las predicciones es de 0.2479 unidades, lo que es un buen resumen de los errores generales del modelo. El MSE (0.1750) sugiere que el modelo tiene algunos errores más grandes, ya que esta métrica eleva al cuadrado los errores. Esto es confirmado por el RMSE (0.4183), debido a su diferencia respecto al MAE."
      ]
    },
    {
      "cell_type": "markdown",
      "id": "1f5f584a",
      "metadata": {
        "id": "1f5f584a"
      },
      "source": [
        "## Random Forest"
      ]
    },
    {
      "cell_type": "markdown",
      "id": "0785fc77",
      "metadata": {
        "id": "0785fc77"
      },
      "source": [
        "Para poder implementar el modelo de Random Forest, primero se debe importar la librería `RandomForestRegressor`, para poder utilizar regresión con este modelo."
      ]
    },
    {
      "cell_type": "code",
      "execution_count": null,
      "id": "93d5795b",
      "metadata": {
        "id": "93d5795b"
      },
      "outputs": [],
      "source": [
        "from sklearn.ensemble import RandomForestRegressor"
      ]
    },
    {
      "cell_type": "markdown",
      "id": "94b44a66",
      "metadata": {
        "id": "94b44a66"
      },
      "source": [
        "Una vez importado ahora se puede entrenar el modelo con los datos ya dividios anteriormente."
      ]
    },
    {
      "cell_type": "code",
      "execution_count": null,
      "id": "b6316085",
      "metadata": {
        "id": "b6316085"
      },
      "outputs": [],
      "source": [
        "model_rf = RandomForestRegressor(random_state=42)"
      ]
    },
    {
      "cell_type": "code",
      "execution_count": null,
      "id": "cf27192e",
      "metadata": {
        "id": "cf27192e"
      },
      "outputs": [],
      "source": [
        "param_grid = {\n",
        "    'n_estimators': [50, 100, 150, 200, 250, 300],\n",
        "    'max_depth': [5, 10, 20, None],\n",
        "}\n",
        "\n",
        "grid_search = GridSearchCV(estimator=model_rf, param_grid=param_grid, cv=5, n_jobs=-1)"
      ]
    },
    {
      "cell_type": "code",
      "execution_count": null,
      "id": "7dab25b0",
      "metadata": {
        "colab": {
          "base_uri": "https://localhost:8080/"
        },
        "id": "7dab25b0",
        "outputId": "f354cd6a-a11b-4279-8cb3-fe4d9901f297"
      },
      "outputs": [
        {
          "output_type": "stream",
          "name": "stderr",
          "text": [
            "/usr/local/lib/python3.10/dist-packages/joblib/externals/loky/process_executor.py:752: UserWarning: A worker stopped while some jobs were given to the executor. This can be caused by a too short worker timeout or by a memory leak.\n",
            "  warnings.warn(\n"
          ]
        }
      ],
      "source": [
        "start_time = time.time()\n",
        "grid_search.fit(X_train, y_train)\n",
        "end_time = time.time()"
      ]
    },
    {
      "cell_type": "code",
      "execution_count": null,
      "id": "0e5522d1",
      "metadata": {
        "colab": {
          "base_uri": "https://localhost:8080/"
        },
        "id": "0e5522d1",
        "outputId": "adca32d6-0253-457e-c32e-f00445253c77"
      },
      "outputs": [
        {
          "output_type": "stream",
          "name": "stdout",
          "text": [
            "Mejores parámetros encontrados por cv: {'max_depth': 10, 'n_estimators': 300}\n"
          ]
        }
      ],
      "source": [
        "print(f\"Mejores parámetros encontrados por cv: {grid_search.best_params_}\")"
      ]
    },
    {
      "cell_type": "markdown",
      "id": "b616ffc7",
      "metadata": {
        "id": "b616ffc7"
      },
      "source": [
        "Ya con el modelo entrenado, es posible realizar las predicciones con el conjunto de pruebas."
      ]
    },
    {
      "cell_type": "code",
      "execution_count": null,
      "id": "23e3e341",
      "metadata": {
        "id": "23e3e341"
      },
      "outputs": [],
      "source": [
        "y_pred_rf = grid_search.predict(X_test)\n",
        "y_pred_rf_train = grid_search.predict(X_train)"
      ]
    },
    {
      "cell_type": "markdown",
      "id": "77106607",
      "metadata": {
        "id": "77106607"
      },
      "source": [
        "Los resultados de la prueba se analizarán con las métricas de `MAE`, `MSE` y `RMSE`"
      ]
    },
    {
      "cell_type": "code",
      "execution_count": null,
      "id": "c540ef34",
      "metadata": {
        "colab": {
          "base_uri": "https://localhost:8080/"
        },
        "id": "c540ef34",
        "outputId": "5f81608e-a699-4499-efe8-2e345eaaaf47"
      },
      "outputs": [
        {
          "output_type": "stream",
          "name": "stdout",
          "text": [
            "Mean Absolute Error (MAE) de Random Forest (test set): 0.2432042969747183\n",
            "Mean Absolute Error (MAE) de Random Forest (train set): 0.21564534858357365\n",
            "Mean Squared Error (MSE) de Random Forest (test set): 0.16996772035723856\n",
            "Mean Squared Error (MSE) de Random Forest (train set): 0.13212035180946444\n",
            "Root Mean Squared Error (RMSE) de Random Forest (test set): 0.41227141588671723\n",
            "Root Mean Squared Error (RMSE) de Random Forest (train set): 0.36348363348225793\n",
            "Tiempo de entrenamiento: 1290.6596636772156 segundos\n"
          ]
        }
      ],
      "source": [
        "mae_rf = mean_absolute_error(y_test, y_pred_rf)\n",
        "mae_rf_train = mean_absolute_error(y_train, y_pred_rf_train)\n",
        "print(\"Mean Absolute Error (MAE) de Random Forest (test set):\", mae_rf)\n",
        "print(\"Mean Absolute Error (MAE) de Random Forest (train set):\", mae_rf_train)\n",
        "\n",
        "mse_rf = mean_squared_error(y_test, y_pred_rf)\n",
        "mse_rf_train = mean_squared_error(y_train, y_pred_rf_train)\n",
        "print(\"Mean Squared Error (MSE) de Random Forest (test set):\", mse_rf)\n",
        "print(\"Mean Squared Error (MSE) de Random Forest (train set):\", mse_rf_train)\n",
        "\n",
        "rmse_rf = np.sqrt(mse_rf)\n",
        "rmse_rf_train = np.sqrt(mse_rf_train)\n",
        "print(\"Root Mean Squared Error (RMSE) de Random Forest (test set):\", rmse_rf)\n",
        "print(\"Root Mean Squared Error (RMSE) de Random Forest (train set):\", rmse_rf_train)\n",
        "\n",
        "print(f\"Tiempo de entrenamiento: {end_time - start_time} segundos\")"
      ]
    },
    {
      "cell_type": "markdown",
      "id": "278c2e1a",
      "metadata": {
        "id": "278c2e1a"
      },
      "source": [
        "Como se puede ver el MAE (0.2601) indica que el error promedio de las predicciones es de 0.2601 unidades, lo que es un buen resumen de los errores generales del modelo. El MSE (0.2000) sugiere que el modelo tiene algunos errores más grandes, ya que esta métrica eleva al cuadrado los errores. Esto es confirmado por el RMSE (0.4473), debido a su diferencia respecto al MAE."
      ]
    },
    {
      "cell_type": "markdown",
      "id": "3894d66c",
      "metadata": {
        "id": "3894d66c"
      },
      "source": [
        "## Gradient Boosting"
      ]
    },
    {
      "cell_type": "markdown",
      "id": "99c712fd",
      "metadata": {
        "id": "99c712fd"
      },
      "source": [
        "Antes de iniciar con **Gradient Boosting**, se importarán las librerías necesarias:"
      ]
    },
    {
      "cell_type": "code",
      "execution_count": null,
      "id": "62db8031",
      "metadata": {
        "id": "62db8031"
      },
      "outputs": [],
      "source": [
        "from sklearn.ensemble import GradientBoostingRegressor"
      ]
    },
    {
      "cell_type": "markdown",
      "id": "0a882879",
      "metadata": {
        "id": "0a882879"
      },
      "source": [
        "Ahroa se creará el Gradient Boosting Regressor con una cantidad de *aprendices* de 100 (elegido aleatoriamente), una *tasa de aprendizaje* de 0.1 y una profundidad máxima (profundidad a la que pueden llegar los aprendices como máximo) de 3.\n",
        "\n",
        "*Nota: se utilizará random_state=42 para que los datos sean reproducibles en el caso actual.*"
      ]
    },
    {
      "cell_type": "code",
      "execution_count": null,
      "id": "6b4e5cc9",
      "metadata": {
        "id": "6b4e5cc9"
      },
      "outputs": [],
      "source": [
        "model_gb = GradientBoostingRegressor(random_state=42)"
      ]
    },
    {
      "cell_type": "code",
      "execution_count": null,
      "id": "037c3e76",
      "metadata": {
        "id": "037c3e76"
      },
      "outputs": [],
      "source": [
        "param_grid = {\n",
        "    'n_estimators': [50, 100, 150, 200, 250],\n",
        "    'learning_rate': [0.1, 0.05, 0.01],\n",
        "    'max_depth': [3, 4, 5, 6, 8],\n",
        "}\n",
        "\n",
        "grid_search = GridSearchCV(estimator=model_gb, param_grid=param_grid, cv=5, n_jobs=-1)\n",
        "\n",
        "start_time = time.time()\n",
        "grid_search.fit(X_train, y_train)\n",
        "end_time = time.time()"
      ]
    },
    {
      "cell_type": "code",
      "execution_count": null,
      "id": "75c2d1c3",
      "metadata": {
        "colab": {
          "base_uri": "https://localhost:8080/"
        },
        "id": "75c2d1c3",
        "outputId": "f427556e-f8a7-4eae-cb59-1d187559e3c8"
      },
      "outputs": [
        {
          "output_type": "stream",
          "name": "stdout",
          "text": [
            "Mejores parámetros encontrados por cv: {'learning_rate': 0.05, 'max_depth': 5, 'n_estimators': 100}\n"
          ]
        }
      ],
      "source": [
        "print(f\"Mejores parámetros encontrados por cv: {grid_search.best_params_}\")"
      ]
    },
    {
      "cell_type": "markdown",
      "id": "a70e6ec1",
      "metadata": {
        "id": "a70e6ec1"
      },
      "source": [
        "Una vez entrenado el modelo, se evaluará su capacidad de realizar predicciones de manera similar a los datos observados en el conjunto de pruebas:"
      ]
    },
    {
      "cell_type": "code",
      "execution_count": null,
      "id": "67fa0de4",
      "metadata": {
        "id": "67fa0de4"
      },
      "outputs": [],
      "source": [
        "y_pred_gb = grid_search.predict(X_test)\n",
        "y_pred_gb_train = grid_search.predict(X_train)"
      ]
    },
    {
      "cell_type": "code",
      "execution_count": null,
      "id": "89b051db",
      "metadata": {
        "colab": {
          "base_uri": "https://localhost:8080/"
        },
        "id": "89b051db",
        "outputId": "2a433e80-664b-44bf-9f83-9b8179901807"
      },
      "outputs": [
        {
          "output_type": "stream",
          "name": "stdout",
          "text": [
            "Mean Absolute Error (MAE) de Gradient Boosting (test set): 0.24361027892750808\n",
            "Mean Absolute Error (MAE) de Gradient Boosting (train set): 0.23367610543583694\n",
            "Mean Squared Error (MSE) de Gradient Boosting (test set): 0.16924286956561946\n",
            "Mean Squared Error (MSE) de Gradient Boosting (train set): 0.15050893561687254\n",
            "Root Mean Squared Error (RMSE) de Gradient Boosting (test set): 0.41139138246397366\n",
            "Root Mean Squared Error (RMSE) de Gradient Boosting (train set): 0.38795481130780235\n",
            "Tiempo de entrenamiento: 2530.056647539139 segundos\n"
          ]
        }
      ],
      "source": [
        "mae_gb = mean_absolute_error(y_test, y_pred_gb)\n",
        "mae_gb_train = mean_absolute_error(y_train, y_pred_gb_train)\n",
        "print(\"Mean Absolute Error (MAE) de Gradient Boosting (test set):\", mae_gb)\n",
        "print(\"Mean Absolute Error (MAE) de Gradient Boosting (train set):\", mae_gb_train)\n",
        "\n",
        "mse_gb = mean_squared_error(y_test, y_pred_gb)\n",
        "mse_gb_train = mean_squared_error(y_train, y_pred_gb_train)\n",
        "print(\"Mean Squared Error (MSE) de Gradient Boosting (test set):\", mse_gb)\n",
        "print(\"Mean Squared Error (MSE) de Gradient Boosting (train set):\", mse_gb_train)\n",
        "\n",
        "rmse_gb = np.sqrt(mse_gb)\n",
        "rmse_gb_train = np.sqrt(mse_gb_train)\n",
        "print(\"Root Mean Squared Error (RMSE) de Gradient Boosting (test set):\", rmse_gb)\n",
        "print(\"Root Mean Squared Error (RMSE) de Gradient Boosting (train set):\", rmse_gb_train)\n",
        "\n",
        "print(f\"Tiempo de entrenamiento: {end_time - start_time} segundos\")"
      ]
    },
    {
      "cell_type": "markdown",
      "id": "1a1fd3aa",
      "metadata": {
        "id": "1a1fd3aa"
      },
      "source": [
        "## Bagging"
      ]
    },
    {
      "cell_type": "markdown",
      "id": "99937d4a",
      "metadata": {
        "id": "99937d4a"
      },
      "source": [
        "Para implementar `Bagging` se debe importar la librería `BaggingRegressor`"
      ]
    },
    {
      "cell_type": "code",
      "execution_count": null,
      "id": "13a87261",
      "metadata": {
        "id": "13a87261"
      },
      "outputs": [],
      "source": [
        "from sklearn.ensemble import BaggingRegressor"
      ]
    },
    {
      "cell_type": "markdown",
      "id": "317f213d",
      "metadata": {
        "id": "317f213d"
      },
      "source": [
        "Ahora es necesario entrenar el modelo, indicándole qué hiper-parámetros se utilizarán:\n",
        "- Modelo de aprendizaje debe utilizar (`estimator`)\n",
        "- Cuántos debe utilizar (`n_estimators`)\n",
        "- La cantidad de muestras por grupo (`max_samples`)\n",
        "- La cantidad de features por grupo (`max_features`)"
      ]
    },
    {
      "cell_type": "code",
      "execution_count": null,
      "id": "877b501b",
      "metadata": {
        "id": "877b501b"
      },
      "outputs": [],
      "source": [
        "base_regressor = KNeighborsRegressor()\n",
        "model_bag = BaggingRegressor(estimator=base_regressor, random_state=42)"
      ]
    },
    {
      "cell_type": "code",
      "execution_count": null,
      "id": "e5536900",
      "metadata": {
        "id": "e5536900",
        "colab": {
          "base_uri": "https://localhost:8080/"
        },
        "outputId": "ece83599-4a2f-4e48-be62-a8cbf4fec5e5"
      },
      "outputs": [
        {
          "output_type": "stream",
          "name": "stderr",
          "text": [
            "/usr/local/lib/python3.10/dist-packages/numpy/ma/core.py:2820: RuntimeWarning: invalid value encountered in cast\n",
            "  _data = np.array(data, dtype=dtype, copy=copy,\n"
          ]
        }
      ],
      "source": [
        "param_grid = {\n",
        "    # 300, 350 and 400 led to overfitting\n",
        "    'n_estimators': [10, 20, 50, 100, 200],\n",
        "    'max_samples': [0.5, 0.7, 1.0],\n",
        "    'max_features': [0.5, 0.7, 1.0],\n",
        "    'estimator__n_neighbors': [3, 5, 7, 9, 15, 18, 21]\n",
        "}\n",
        "\n",
        "grid_search = GridSearchCV(estimator=model_bag, param_grid=param_grid, cv=5, n_jobs=-1)\n",
        "\n",
        "start_time = time.time()\n",
        "grid_search.fit(X_train, y_train)\n",
        "end_time = time.time()"
      ]
    },
    {
      "cell_type": "code",
      "execution_count": null,
      "id": "751b4f81",
      "metadata": {
        "id": "751b4f81",
        "colab": {
          "base_uri": "https://localhost:8080/"
        },
        "outputId": "1c95ad54-f735-41d7-e622-ffe37c467fea"
      },
      "outputs": [
        {
          "output_type": "stream",
          "name": "stdout",
          "text": [
            "Mejores parámetros encontrados por cv: {'estimator__n_neighbors': 21, 'max_features': 1.0, 'max_samples': 0.5, 'n_estimators': 200}\n"
          ]
        }
      ],
      "source": [
        "print(f\"Mejores parámetros encontrados por cv: {grid_search.best_params_}\")"
      ]
    },
    {
      "cell_type": "markdown",
      "id": "f4e37df0",
      "metadata": {
        "id": "f4e37df0"
      },
      "source": [
        "Ahora es posible realizar una prueba sobre el modelo"
      ]
    },
    {
      "cell_type": "code",
      "execution_count": null,
      "id": "6c8868d1",
      "metadata": {
        "id": "6c8868d1"
      },
      "outputs": [],
      "source": [
        "y_pred_bag = grid_search.predict(X_test)\n",
        "y_pred_bag_train = grid_search.predict(X_train)"
      ]
    },
    {
      "cell_type": "markdown",
      "id": "e254f32c",
      "metadata": {
        "id": "e254f32c"
      },
      "source": [
        "Se procede a verificar los resultados"
      ]
    },
    {
      "cell_type": "code",
      "execution_count": null,
      "id": "619de634",
      "metadata": {
        "id": "619de634",
        "colab": {
          "base_uri": "https://localhost:8080/"
        },
        "outputId": "64a532b6-bbb5-4f39-efa8-ee03aed6a254"
      },
      "outputs": [
        {
          "output_type": "stream",
          "name": "stdout",
          "text": [
            "Mean Absolute Error (MAE) de Bagging (test set): 0.2488024693453452\n",
            "Mean Absolute Error (MAE) de Bagging (train set): 0.24581325847807242\n",
            "Mean Squared Error (MSE) de Bagging (test set): 0.1729847472301606\n",
            "Mean Squared Error (MSE) de Bagging (train set): 0.16452281442194988\n",
            "Root Mean Squared Error (RMSE) de Bagging (test set): 0.41591435083459266\n",
            "Root Mean Squared Error (RMSE) de Bagging (train set): 0.4056141200968599\n",
            "Tiempo de entrenamiento: 3731.4087150096893 segundos\n"
          ]
        }
      ],
      "source": [
        "mae_bag = mean_absolute_error(y_test, y_pred_bag)\n",
        "mae_bag_train = mean_absolute_error(y_train, y_pred_bag_train)\n",
        "print(\"Mean Absolute Error (MAE) de Bagging (test set):\", mae_bag)\n",
        "print(\"Mean Absolute Error (MAE) de Bagging (train set):\", mae_bag_train)\n",
        "\n",
        "mse_bag = mean_squared_error(y_test, y_pred_bag)\n",
        "mse_bag_train = mean_squared_error(y_train, y_pred_bag_train)\n",
        "print(\"Mean Squared Error (MSE) de Bagging (test set):\", mse_bag)\n",
        "print(\"Mean Squared Error (MSE) de Bagging (train set):\", mse_bag_train)\n",
        "\n",
        "rmse_bag = np.sqrt(mse_bag)\n",
        "rmse_bag_train = np.sqrt(mse_bag_train)\n",
        "print(\"Root Mean Squared Error (RMSE) de Bagging (test set):\", rmse_bag)\n",
        "print(\"Root Mean Squared Error (RMSE) de Bagging (train set):\", rmse_bag_train)\n",
        "\n",
        "print(f\"Tiempo de entrenamiento: {end_time - start_time} segundos\")"
      ]
    },
    {
      "cell_type": "markdown",
      "id": "a9bf76a8",
      "metadata": {
        "id": "a9bf76a8"
      },
      "source": [
        "# 5. Benchmarking de los Modelos"
      ]
    },
    {
      "cell_type": "markdown",
      "id": "9c4094d3",
      "metadata": {
        "id": "9c4094d3"
      },
      "source": [
        "Ahora se realizará una comparación de los modelos utilizando una tabla comparativa con los resultados de las diferentes métricas utilizadas para evaluar el conjunto de prueba."
      ]
    },
    {
      "cell_type": "markdown",
      "id": "1531c59a",
      "metadata": {
        "id": "1531c59a"
      },
      "source": [
        "|       Modelo      |         MAE         |         MSE         |         RMSE        |         Tiempo (min)        |\n",
        "| ----------------- | ------------------- | ------------------- | ------------------- |------------------- |\n",
        "|  Regresión Lineal |  0.31119 | 0.21853 | 0.46747 | 0.00053 |\n",
        "|        KNN        |  0.24798 | 0.17505 | 0.41839 | 0.06808 |\n",
        "|   Random Forest   |  0.24320 | 0.16997 | 0.41227 | 21.51100 |\n",
        "| Gradient Boosting |  0.24361 | 0.16924 | 0.41139 | 42.16761 |\n",
        "|      Bagging      |  0.24880 | 0.17298 | 0.41227 | 62.19015 |"
      ]
    },
    {
      "cell_type": "markdown",
      "id": "11ea0523",
      "metadata": {
        "id": "11ea0523"
      },
      "source": [
        "En general los modelos tienen ligeras diferencias entre sí, ninguno sobrepasando la unidad de error. Esto quiere decir, que todos los modelos se equivocan al calcular el área afectada por los incendios por menos de un kilómetro cuadrado. Para visualizar mejor estos datos, se realizarán gráficos utilizando la librería `matplotlib`:"
      ]
    },
    {
      "cell_type": "code",
      "execution_count": null,
      "id": "e8af8b3a",
      "metadata": {
        "id": "e8af8b3a"
      },
      "outputs": [],
      "source": [
        "import matplotlib.pyplot as plt"
      ]
    },
    {
      "cell_type": "code",
      "execution_count": null,
      "id": "736ac73b",
      "metadata": {
        "id": "736ac73b",
        "colab": {
          "base_uri": "https://localhost:8080/",
          "height": 652
        },
        "outputId": "315df4ae-e487-46e8-9583-66ae49208b37"
      },
      "outputs": [
        {
          "output_type": "execute_result",
          "data": {
            "text/plain": [
              "([<matplotlib.axis.XTick at 0x7dc0e4e18df0>,\n",
              "  <matplotlib.axis.XTick at 0x7dc0e4e1a8c0>,\n",
              "  <matplotlib.axis.XTick at 0x7dc0e4e1b7c0>,\n",
              "  <matplotlib.axis.XTick at 0x7dc0e44e4250>,\n",
              "  <matplotlib.axis.XTick at 0x7dc0e44e4d00>],\n",
              " [Text(0, 0, 'Regresión Lineal'),\n",
              "  Text(1, 0, 'KNN'),\n",
              "  Text(2, 0, 'RF'),\n",
              "  Text(3, 0, 'Gradient Boosting'),\n",
              "  Text(4, 0, 'Bagging')])"
            ]
          },
          "metadata": {},
          "execution_count": 38
        },
        {
          "output_type": "display_data",
          "data": {
            "text/plain": [
              "<Figure size 640x480 with 1 Axes>"
            ],
            "image/png": "[encoded data removed]"
          },
          "metadata": {}
        }
      ],
      "source": [
        "plot_mae = np.array([mae_lr, mae_knn, mae_rf, mae_gb, mae_bag])\n",
        "\n",
        "plt.plot(plot_mae)\n",
        "\n",
        "plt.title(\"Comparación de MAE de modelos\", loc = 'left')\n",
        "plt.xlabel(\"Modelos\")\n",
        "plt.ylabel(\"Valor\")\n",
        "plt.xticks(ticks=[0, 1, 2, 3, 4], labels=[\"Regresión Lineal\",\"KNN\",\"RF\",\"Gradient Boosting\",\"Bagging\"])"
      ]
    },
    {
      "cell_type": "markdown",
      "source": [
        "En este gráfico se puede ver cómo Regresión Lineal tiene el MAE más alto de todos los modelos. También se puede apreciar cómo KNN y Bagging tienen valores similiares. Lo mismo se puede observar para Random Forest y Gradient Boosting."
      ],
      "metadata": {
        "id": "zOZWxfBJ3-4G"
      },
      "id": "zOZWxfBJ3-4G"
    },
    {
      "cell_type": "code",
      "execution_count": null,
      "id": "a05ee054",
      "metadata": {
        "id": "a05ee054",
        "colab": {
          "base_uri": "https://localhost:8080/",
          "height": 652
        },
        "outputId": "5118a050-2fbd-4f61-da3f-2c2f5f0e56b3"
      },
      "outputs": [
        {
          "output_type": "execute_result",
          "data": {
            "text/plain": [
              "([<matplotlib.axis.XTick at 0x7dc0e4318f40>,\n",
              "  <matplotlib.axis.XTick at 0x7dc0e4318f10>,\n",
              "  <matplotlib.axis.XTick at 0x7dc0e4318e20>,\n",
              "  <matplotlib.axis.XTick at 0x7dc0e4335060>,\n",
              "  <matplotlib.axis.XTick at 0x7dc0e4335720>],\n",
              " [Text(0, 0, 'Regresión Lineal'),\n",
              "  Text(1, 0, 'KNN'),\n",
              "  Text(2, 0, 'RF'),\n",
              "  Text(3, 0, 'Gradient Boosting'),\n",
              "  Text(4, 0, 'Bagging')])"
            ]
          },
          "metadata": {},
          "execution_count": 39
        },
        {
          "output_type": "display_data",
          "data": {
            "text/plain": [
              "<Figure size 640x480 with 1 Axes>"
            ],
            "image/png": "[encoded data removed]"
          },
          "metadata": {}
        }
      ],
      "source": [
        "plot_mse = np.array([mse_lr, mse_knn, mse_rf, mse_gb, mse_bag])\n",
        "\n",
        "plt.plot(plot_mse)\n",
        "\n",
        "plt.title(\"Comparación de MSE de modelos\", loc = 'left')\n",
        "plt.xlabel(\"Modelos\")\n",
        "plt.ylabel(\"Valor\")\n",
        "plt.xticks(ticks=[0, 1, 2, 3, 4], labels=[\"Regresión Lineal\",\"KNN\",\"RF\",\"Gradient Boosting\",\"Bagging\"])"
      ]
    },
    {
      "cell_type": "markdown",
      "source": [
        "Dado que MSE castiga más los errores, era de esperarse que el comportamiento de los modelos fuera similar. En efecto, Rregresión Lineal sigue siendo el modelo con los valores más altos, seguido por KNN y Bagging."
      ],
      "metadata": {
        "id": "9EPJlzQm4fcI"
      },
      "id": "9EPJlzQm4fcI"
    },
    {
      "cell_type": "code",
      "execution_count": null,
      "id": "a77031f5",
      "metadata": {
        "id": "a77031f5",
        "colab": {
          "base_uri": "https://localhost:8080/",
          "height": 652
        },
        "outputId": "e77ec422-4bdf-4fcb-8adf-fc4c3974c142"
      },
      "outputs": [
        {
          "output_type": "execute_result",
          "data": {
            "text/plain": [
              "([<matplotlib.axis.XTick at 0x7dc0e434cac0>,\n",
              "  <matplotlib.axis.XTick at 0x7dc0e434ca90>,\n",
              "  <matplotlib.axis.XTick at 0x7dc0e434c9a0>,\n",
              "  <matplotlib.axis.XTick at 0x7dc0e436d270>,\n",
              "  <matplotlib.axis.XTick at 0x7dc0e436cb20>],\n",
              " [Text(0, 0, 'Regresión Lineal'),\n",
              "  Text(1, 0, 'KNN'),\n",
              "  Text(2, 0, 'RF'),\n",
              "  Text(3, 0, 'Gradient Boosting'),\n",
              "  Text(4, 0, 'Bagging')])"
            ]
          },
          "metadata": {},
          "execution_count": 40
        },
        {
          "output_type": "display_data",
          "data": {
            "text/plain": [
              "<Figure size 640x480 with 1 Axes>"
            ],
            "image/png": "[encoded data removed]"
          },
          "metadata": {}
        }
      ],
      "source": [
        "plot_rmse = np.array([rmse_lr, rmse_knn, rmse_rf, rmse_gb, rmse_bag])\n",
        "\n",
        "plt.plot(plot_rmse)\n",
        "\n",
        "plt.title(\"Comparación de RMSE de modelos\", loc = 'left')\n",
        "plt.xlabel(\"Modelos\")\n",
        "plt.ylabel(\"Valor\")\n",
        "plt.xticks(ticks=[0, 1, 2, 3, 4], labels=[\"Regresión Lineal\",\"KNN\",\"RF\",\"Gradient Boosting\",\"Bagging\"])"
      ]
    },
    {
      "cell_type": "markdown",
      "source": [
        "El comportamiento anterior es replicado en RMSE, puesto que son los valores de MSE, pero aplicándoles la operación de raíz cuadrada."
      ],
      "metadata": {
        "id": "HVOdQzoQ5TIg"
      },
      "id": "HVOdQzoQ5TIg"
    },
    {
      "cell_type": "markdown",
      "id": "2d2c2e7f",
      "metadata": {
        "id": "2d2c2e7f"
      },
      "source": [
        "## Discusión"
      ]
    },
    {
      "cell_type": "markdown",
      "id": "5bf80183",
      "metadata": {
        "id": "5bf80183"
      },
      "source": [
        "Al observar la tabla y los gráficos de las métricas calculadas, se puede ver que el orden ascendente en términos de MAE, MSE y RMSE es el siguiente:\n",
        "\n",
        "1. Gradient Boosting  \n",
        "2. Random Forest  \n",
        "3. Bagging  \n",
        "4. KNN  \n",
        "5. Regresión Lineal  \n",
        "\n",
        "El rendimiento de los modelos concuerda con la teoría que respalda su funcionamiento. En primer lugar, Gradient Boosting es el modelo que mejor se desempeña, lo cual es esperable debido a su capacidad para corregir los errores de los árboles anteriores, ajustándose mejor a las relaciones no lineales entre los datos. Esto le permite capturar patrones complejos de manera más precisa.\n",
        "\n",
        "El buen rendimiento de Random Forest y Bagging se debe a su enfoque de ensamblado, que combina múltiples modelos para generar predicciones más robustas y mitigar el sobreajuste. Random Forest es una especialización de Bagging, ya que entrena varios árboles de decisión en paralelo. La diferencia de rendimiento entre ambos podría deberse a que los árboles de decisión son más efectivos para este conjunto de datos.\n",
        "\n",
        "El hecho de tener que entrenar múltiples modelos base puede que juegue un papel importante en la elección de uno de estos modelos de predicción, en cuestión de tiempo. El tiempo de entrenamiento de Random Forest, Gradient Boosting y Bagging fue de aproximadamente 20, 40 y 60 minutos, respectivamente.\n",
        "\n",
        "KNN y Bagging muestran un rendimiento similar. Esto puede deberse a la cantidad de muestras utilizadas en Bagging, ya que se está aplicando un muestreo *bootstrap* del 50% de las muestras y el 50% de las *features*. Bagging generalmente mejora modelos inestables, por lo que su impacto en KNN, que es más estable, es más limitado en este caso.\n",
        "\n",
        "Regresión Lineal obtuvo el peor rendimiento, lo cual es esperable debido a su naturaleza lineal, que dificulta capturar relaciones no lineales en los datos complejos."
      ]
    },
    {
      "cell_type": "markdown",
      "id": "a859347d",
      "metadata": {
        "id": "a859347d"
      },
      "source": [
        "# 6. Documentación y Análisis"
      ]
    },
    {
      "cell_type": "markdown",
      "id": "032b0d23",
      "metadata": {
        "id": "032b0d23"
      },
      "source": [
        "En resumen, todos los modelos lograron un MAE en el rango de 0.25 a 0.30, lo que indica un buen rendimiento general en los casos promedio. Sin embargo, el RMSE se mantuvo en rangos de 0.40 a 0.50, lo cual sugiere que los modelos tienen dificultades para predecir con precisión en presencia de datos atípicos o extremos.\n",
        "\n",
        "Es posible que un mayor ajuste de los hiperparámetros de los modelos pudiera mejorar su rendimiento. Como por ejemplo, utilizar una lista de vecinos más grande para KNN y así tener más opciones para revisar la cantidad más óptima. O también usar un modelo base diferente para Bagging.\n",
        "\n",
        "Además, dado el comportamiento observado, sería conveniente revisar el preprocesamiento de los datos, pues el impacto de los datos atípicos es notable. Otra opción a considerar es la reducción de dimensionalidad, la cual podría disminuir el ruido y mejorar la generalización de los modelos, dado que en este caso solo se utilizaron atributos con mayor correlación sobre la variable de respuesta.\n",
        "\n",
        "Otro punto a tomar en cuenta es el tiempo de entrenamiento. En los modelos ensamblados el tiempo de entrenamiento se llega a disparar hasta un 375% más que con un modelo base normal. Random Forest y KNN son recomendables por su balance entre precisión y tiempo de entrenamiento. Random Forest ofrece un buen rendimiento con tiempos razonables (300 árboles en 20 minutos), mientras que KNN, aunque ligeramente menos preciso, es significativamente más rápido (4 segundos).\n",
        "\n",
        "En conclusión, se implementaron cinco modelos diferentes con el fin de predecir el área afectada por un incendio forestal, tomando en cuenta datos satelitales y climatológicos. De estos cinco modelos, los que tuvieron un mejor desempeño fueron Gradient Boosting y Random Forest, sin embargo, junto con Bagging fueron los que más tiempo de entrenamiento requirieron. KNN utilizó un tiempo moderado de tiempo, con resultados razonables, mientras que Regresión Lineal fue el que tuvo peor rendimiento."
      ]
    }
  ],
  "metadata": {
    "colab": {
      "provenance": []
    },
    "jupytext": {
      "formats": "ipynb,py:percent"
    },
    "kernelspec": {
      "display_name": "Python 3 (ipykernel)",
      "language": "python",
      "name": "python3"
    },
    "language_info": {
      "codemirror_mode": {
        "name": "ipython",
        "version": 3
      },
      "file_extension": ".py",
      "mimetype": "text/x-python",
      "name": "python",
      "nbconvert_exporter": "python",
      "pygments_lexer": "ipython3",
      "version": "3.12.5"
    }
  },
  "nbformat": 4,
  "nbformat_minor": 5
}